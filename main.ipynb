{
 "cells": [
  {
   "cell_type": "code",
   "execution_count": 1,
   "metadata": {},
   "outputs": [],
   "source": [
    "import numpy as np\n",
    "import math\n",
    "import time\n",
    "from datetime import datetime\n",
    "\n",
    "import torch\n",
    "import torch.nn as nn\n",
    "from torch.autograd import Variable\n",
    "import torchvision.transforms as transform\n",
    "\n",
    "import dataloader \n",
    "from transforms import mulawnEncode,mulaw,array2tensor,dic2tensor\n",
    "from paramManager import paramManager\n",
    "\n",
    "import matplotlib.pylab as plt\n",
    "%matplotlib inline"
   ]
  },
  {
   "cell_type": "code",
   "execution_count": 2,
   "metadata": {},
   "outputs": [],
   "source": [
    "# Some utility functions\n",
    "#*************************************\n",
    "def time_taken(elapsed):\n",
    "    \"\"\"To format time taken in hh:mm:ss. Use with time.monotic()\"\"\"\n",
    "    m, s = divmod(elapsed, 60)\n",
    "    h, m = divmod(m, 60)\n",
    "    return \"%d:%02d:%02d\" % (h, m, s)"
   ]
  },
  {
   "cell_type": "code",
   "execution_count": 3,
   "metadata": {},
   "outputs": [],
   "source": [
    "# Read/write directory parameters\n",
    "#*************************************\n",
    "datadir = 'dataset'\n",
    "paramdir = 'dataparam'\n",
    "\n",
    "# Training parameters\n",
    "#*************************************\n",
    "sr = 16000\n",
    "seqLen = 256\n",
    "stride = 10\n",
    "batch_size = 25\n",
    "num_epochs = 1\n",
    "lr = 0.005\n",
    "log_interval = 20\n",
    "max_steps = 1000"
   ]
  },
  {
   "cell_type": "code",
   "execution_count": 4,
   "metadata": {},
   "outputs": [
    {
     "name": "stdout",
     "output_type": "stream",
     "text": [
      "dict_keys(['meta', 'rmse', 'instID', 'midiPitch'])\n"
     ]
    }
   ],
   "source": [
    "# Let's check out the available conditional parameters first\n",
    "#*************************************\n",
    "pm = paramManager.paramManager(datadir, paramdir)\n",
    "datafiles = pm.filenames(datadir)\n",
    "params = pm.getParams(datafiles[0]) \n",
    "print(params.keys())\n",
    "\n",
    "#note midiPitch has to be scaled since the large raw values interfere with the learning"
   ]
  },
  {
   "cell_type": "code",
   "execution_count": 5,
   "metadata": {},
   "outputs": [],
   "source": [
    "# Initialize dataset & dataloader\n",
    "#*************************************\n",
    "adataset = dataloader.AudioDataset(sr,seqLen,stride,\n",
    "                                  datadir=datadir,extension=\"wav\",\n",
    "                                  paramdir=paramdir,prop=['instID'],  #,'midiPitch'\n",
    "                                  transform=transform.Compose([mulawnEncode(256,0,1),array2tensor(torch.FloatTensor)]),\n",
    "                                  param_transform=dic2tensor(torch.FloatTensor),\n",
    "                                  target_transform=transform.Compose([mulaw(256),array2tensor(torch.LongTensor)]))\n",
    "\n",
    "train_loader = torch.utils.data.DataLoader(dataset=adataset,\n",
    "                                           batch_size=batch_size, \n",
    "                                           shuffle=True,\n",
    "                                           num_workers=4)"
   ]
  },
  {
   "cell_type": "code",
   "execution_count": null,
   "metadata": {},
   "outputs": [],
   "source": [
    "#just for testing\n",
    "\n",
    "for i in range(len(adataset)):\n",
    "    sample,target = adataset[i]\n",
    "    #plt.plot(sample['audio'])\n",
    "    #for param in sample:\n",
    "    #    print(param)\n",
    "    print(sample)\n",
    "    print(target)\n",
    "    if i == 1:\n",
    "        break #just to visualize, note: audio is already mu-lawed\n",
    "        \n",
    "print(len(adataset))\n",
    "print(adataset.totalSamples)\n",
    "#input dim: (batch, seq, feature)"
   ]
  },
  {
   "cell_type": "code",
   "execution_count": 9,
   "metadata": {},
   "outputs": [],
   "source": [
    "# Specify the model\n",
    "#*************************************\n",
    "class RNN(nn.Module):\n",
    "    # input size - the number of \"classes\"\n",
    "    def __init__(self, input_size, cond_size, batch_size, hidden_size, output_size, n_layers=1):\n",
    "        super(RNN, self).__init__()\n",
    "        self.input_size = input_size\n",
    "        self.cond_size = cond_size\n",
    "        self.batch_size = batch_size\n",
    "        self.hidden_size = hidden_size\n",
    "        self.output_size = output_size\n",
    "        self.n_layers = n_layers #no. of stacked GRU layers\n",
    "\n",
    "        self.i2h = nn.Linear(input_size+cond_size, hidden_size)\n",
    "        self.gru = nn.GRU(hidden_size, hidden_size, n_layers, batch_first=True)\n",
    "        self.decoder = nn.Linear(hidden_size, output_size)\n",
    "    \n",
    "\n",
    "    # input and cv are each one sequence element \n",
    "    def forward(self, input, hidden):\n",
    "        #print(\"input size is \" + str((input.size())))\n",
    "        \n",
    "        h1 = self.i2h(input)\n",
    "        #print(\"size of h1 is \" + str(h1.size()))\n",
    "        \n",
    "        h_out, hidden = self.gru(h1.view(self.batch_size,1,-1), hidden)\n",
    "        #print(\"h_out\"+str(h_out.size()))\n",
    "        \n",
    "        output = self.decoder(h_out.view(self.batch_size, -1))\n",
    "        #print(\"output2\"+str(output.size()))\n",
    "        \n",
    "        return output, hidden\n",
    "\n",
    "    # initialize hiddens for each minibatch\n",
    "    def init_hidden(self):\n",
    "        return Variable(torch.zeros(self.n_layers, self.batch_size, self.hidden_size).type(torch.cuda.FloatTensor))"
   ]
  },
  {
   "cell_type": "code",
   "execution_count": 10,
   "metadata": {},
   "outputs": [],
   "source": [
    "# Define the training cycle\n",
    "#*************************************\n",
    "def train(epoch):\n",
    "    rnn.train() #put in training mode\n",
    "    ave_loss_over_steps = 0\n",
    "    \n",
    "    for step, (inp,target) in enumerate(train_loader):\n",
    "        #print('INP',inp.shape)\n",
    "        #print(\"TAR\",target.shape)\n",
    "        inp, target = inp.cuda(), target.cuda()\n",
    "        inp, target = Variable(inp), Variable(target)\n",
    "\n",
    "        # Forward + Backward + Optimize\n",
    "        hidden = rnn.init_hidden()\n",
    "        optimizer.zero_grad()\n",
    "        loss = 0\n",
    "        \n",
    "        for i in range(seqLen):\n",
    "            outputs, hidden = rnn(inp[:,i,:],hidden)\n",
    "            #print('target size',torch.squeeze(target[:,i],1).size())\n",
    "            loss += criterion(outputs, torch.squeeze(target[:,i],1))\n",
    "            \n",
    "        loss.backward()\n",
    "        optimizer.step()\n",
    "        \n",
    "        ave_loss_per_sample = loss.data[0]/seqLen   #over each minibatch\n",
    "        ave_loss_over_steps += ave_loss_per_sample\n",
    "        #print(count,ave_loss)\n",
    "        \n",
    "        if (step+1) % log_interval == 0:\n",
    "            print ('{:%Y-%m-%d %H:%M:%S} Epoch [{}/{}], Step [{}/{}] Loss: {:.4f}'.format( \n",
    "                datetime.now(), epoch+1, num_epochs, step+1, len(adataset)//batch_size, ave_loss_over_steps/log_interval))\n",
    "            \n",
    "            list_of_losses.append(ave_loss_over_steps/log_interval)\n",
    "            ave_loss_over_steps = 0\n",
    "        \n",
    "        if step==max_steps:\n",
    "            break\n",
    "        \n",
    "        "
   ]
  },
  {
   "cell_type": "code",
   "execution_count": 11,
   "metadata": {},
   "outputs": [],
   "source": [
    "# Initialize the network, optimizer and objective func\n",
    "#*************************************\n",
    "rnn = RNN(1,1,batch_size,40,256,4).cuda()\n",
    "optimizer = torch.optim.Adam(rnn.parameters(), lr=lr)\n",
    "criterion = nn.CrossEntropyLoss()"
   ]
  },
  {
   "cell_type": "code",
   "execution_count": 12,
   "metadata": {},
   "outputs": [
    {
     "name": "stdout",
     "output_type": "stream",
     "text": [
      "2018-08-08 13:02:38 Starting training...\n"
     ]
    },
    {
     "name": "stderr",
     "output_type": "stream",
     "text": [
      "C:\\Users\\Huz\\Anaconda3\\envs\\pytorch\\lib\\site-packages\\ipykernel_launcher.py:24: UserWarning: invalid index of a 0-dim tensor. This will be an error in PyTorch 0.5. Use tensor.item() to convert a 0-dim tensor to a Python number\n"
     ]
    },
    {
     "name": "stdout",
     "output_type": "stream",
     "text": [
      "2018-08-08 13:02:54 Epoch [1/1], Step [20/15200] Loss: 5.2819\n",
      "2018-08-08 13:03:07 Epoch [1/1], Step [40/15200] Loss: 5.1271\n",
      "2018-08-08 13:03:20 Epoch [1/1], Step [60/15200] Loss: 5.1105\n",
      "2018-08-08 13:03:33 Epoch [1/1], Step [80/15200] Loss: 4.9367\n",
      "2018-08-08 13:03:46 Epoch [1/1], Step [100/15200] Loss: 4.5660\n",
      "2018-08-08 13:03:59 Epoch [1/1], Step [120/15200] Loss: 4.2978\n",
      "2018-08-08 13:04:12 Epoch [1/1], Step [140/15200] Loss: 4.0687\n",
      "2018-08-08 13:04:25 Epoch [1/1], Step [160/15200] Loss: 3.9183\n",
      "2018-08-08 13:04:38 Epoch [1/1], Step [180/15200] Loss: 3.8056\n",
      "2018-08-08 13:04:51 Epoch [1/1], Step [200/15200] Loss: 3.7193\n",
      "2018-08-08 13:05:05 Epoch [1/1], Step [220/15200] Loss: 3.6112\n",
      "2018-08-08 13:05:18 Epoch [1/1], Step [240/15200] Loss: 3.5877\n",
      "2018-08-08 13:05:31 Epoch [1/1], Step [260/15200] Loss: 3.6506\n",
      "2018-08-08 13:05:44 Epoch [1/1], Step [280/15200] Loss: 3.5875\n",
      "2018-08-08 13:05:57 Epoch [1/1], Step [300/15200] Loss: 3.5153\n",
      "2018-08-08 13:06:10 Epoch [1/1], Step [320/15200] Loss: 3.4599\n",
      "2018-08-08 13:06:23 Epoch [1/1], Step [340/15200] Loss: 3.4254\n",
      "2018-08-08 13:06:36 Epoch [1/1], Step [360/15200] Loss: 3.3983\n",
      "2018-08-08 13:06:49 Epoch [1/1], Step [380/15200] Loss: 3.3883\n",
      "2018-08-08 13:07:02 Epoch [1/1], Step [400/15200] Loss: 3.3971\n",
      "2018-08-08 13:07:15 Epoch [1/1], Step [420/15200] Loss: 3.3720\n",
      "2018-08-08 13:07:28 Epoch [1/1], Step [440/15200] Loss: 3.3345\n",
      "2018-08-08 13:07:41 Epoch [1/1], Step [460/15200] Loss: 3.3029\n",
      "2018-08-08 13:07:54 Epoch [1/1], Step [480/15200] Loss: 3.3473\n",
      "2018-08-08 13:08:07 Epoch [1/1], Step [500/15200] Loss: 3.3862\n",
      "2018-08-08 13:08:20 Epoch [1/1], Step [520/15200] Loss: 3.3066\n",
      "2018-08-08 13:08:33 Epoch [1/1], Step [540/15200] Loss: 3.2528\n",
      "2018-08-08 13:08:46 Epoch [1/1], Step [560/15200] Loss: 3.2222\n",
      "2018-08-08 13:08:59 Epoch [1/1], Step [580/15200] Loss: 3.2820\n",
      "2018-08-08 13:09:12 Epoch [1/1], Step [600/15200] Loss: 3.2216\n",
      "2018-08-08 13:09:25 Epoch [1/1], Step [620/15200] Loss: 3.1766\n",
      "2018-08-08 13:09:38 Epoch [1/1], Step [640/15200] Loss: 3.2440\n",
      "2018-08-08 13:09:51 Epoch [1/1], Step [660/15200] Loss: 3.2281\n",
      "2018-08-08 13:10:04 Epoch [1/1], Step [680/15200] Loss: 3.2079\n",
      "2018-08-08 13:10:17 Epoch [1/1], Step [700/15200] Loss: 3.2371\n",
      "2018-08-08 13:10:31 Epoch [1/1], Step [720/15200] Loss: 3.1945\n",
      "2018-08-08 13:10:44 Epoch [1/1], Step [740/15200] Loss: 3.1553\n",
      "2018-08-08 13:10:57 Epoch [1/1], Step [760/15200] Loss: 3.2073\n",
      "2018-08-08 13:11:10 Epoch [1/1], Step [780/15200] Loss: 3.0902\n",
      "2018-08-08 13:11:23 Epoch [1/1], Step [800/15200] Loss: 3.1046\n",
      "2018-08-08 13:11:36 Epoch [1/1], Step [820/15200] Loss: 3.1533\n",
      "2018-08-08 13:11:49 Epoch [1/1], Step [840/15200] Loss: 3.1840\n",
      "2018-08-08 13:12:02 Epoch [1/1], Step [860/15200] Loss: 3.1192\n",
      "2018-08-08 13:12:15 Epoch [1/1], Step [880/15200] Loss: 3.1155\n",
      "2018-08-08 13:12:28 Epoch [1/1], Step [900/15200] Loss: 3.1049\n",
      "2018-08-08 13:12:41 Epoch [1/1], Step [920/15200] Loss: 3.1244\n",
      "2018-08-08 13:12:54 Epoch [1/1], Step [940/15200] Loss: 3.1085\n",
      "2018-08-08 13:13:07 Epoch [1/1], Step [960/15200] Loss: 3.0973\n",
      "2018-08-08 13:13:20 Epoch [1/1], Step [980/15200] Loss: 3.0685\n",
      "2018-08-08 13:13:33 Epoch [1/1], Step [1000/15200] Loss: 3.1090\n",
      "Training time taken: 0:10:55\n"
     ]
    }
   ],
   "source": [
    "# Train!\n",
    "#*************************************\n",
    "list_of_losses = []\n",
    "\n",
    "print('{:%Y-%m-%d %H:%M:%S} Starting training...'.format(datetime.now()))\n",
    "start_time = time.monotonic()\n",
    "for epoch in range(num_epochs):\n",
    "    train(epoch)\n",
    "elapsed_time = time.monotonic() - start_time\n",
    "print('Training time taken:',time_taken(elapsed_time))"
   ]
  },
  {
   "cell_type": "code",
   "execution_count": 13,
   "metadata": {},
   "outputs": [
    {
     "data": {
      "text/plain": [
       "[<matplotlib.lines.Line2D at 0x1ca89500fd0>]"
      ]
     },
     "execution_count": 13,
     "metadata": {},
     "output_type": "execute_result"
    },
    {
     "data": {
      "image/png": "[encoded data removed]",
      "text/plain": [
       "<Figure size 432x288 with 1 Axes>"
      ]
     },
     "metadata": {},
     "output_type": "display_data"
    }
   ],
   "source": [
    "# Plot the loss over time\n",
    "#*************************************\n",
    "plt.figure()\n",
    "plt.plot(list_of_losses)"
   ]
  }
 ],
 "metadata": {
  "kernelspec": {
   "display_name": "Python 3",
   "language": "python",
   "name": "python3"
  },
  "language_info": {
   "codemirror_mode": {
    "name": "ipython",
    "version": 3
   },
   "file_extension": ".py",
   "mimetype": "text/x-python",
   "name": "python",
   "nbconvert_exporter": "python",
   "pygments_lexer": "ipython3",
   "version": "3.6.2"
  }
 },
 "nbformat": 4,
 "nbformat_minor": 2
}
