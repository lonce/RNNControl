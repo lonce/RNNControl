{
 "cells": [
  {
   "cell_type": "code",
   "execution_count": 1,
   "metadata": {},
   "outputs": [],
   "source": [
    "import numpy as np\n",
    "import math\n",
    "import time\n",
    "from datetime import datetime\n",
    "\n",
    "import torch\n",
    "import torch.nn as nn\n",
    "import torchvision.transforms as transform\n",
    "\n",
    "import audioDataloader.dataloader as dataloader\n",
    "from audioDataloader.transforms import mulawnEncode,mulaw,array2tensor,dic2tensor,injectNoise,normalizeDim\n",
    "from paramManager import paramManager\n",
    "\n",
    "import matplotlib.pylab as plt\n",
    "%matplotlib inline"
   ]
  },
  {
   "cell_type": "code",
   "execution_count": 2,
   "metadata": {},
   "outputs": [],
   "source": [
    "# Some utility functions\n",
    "#*************************************\n",
    "def time_taken(elapsed):\n",
    "    \"\"\"To format time taken in hh:mm:ss. Use with time.monotic()\"\"\"\n",
    "    m, s = divmod(elapsed, 60)\n",
    "    h, m = divmod(m, 60)\n",
    "    return \"%d:%02d:%02d\" % (h, m, s)\n",
    "\n",
    "def mydate() :\n",
    "    return (datetime.now().strftime(\"%Y-%m-%d %H:%M:%S\"))\n",
    "\n",
    "def plot_signal(result):\n",
    "    plt.figure(figsize=(20,1)) \n",
    "    plt.plot(np.arange(len(result)), result) #just print one example from the batch\n",
    "    plt.show()"
   ]
  },
  {
   "cell_type": "code",
   "execution_count": 63,
   "metadata": {},
   "outputs": [],
   "source": [
    "# Read/write directory parameters\n",
    "#*************************************\n",
    "datadir = 'data/synth64_76/dataset'\n",
    "paramdir = 'data/synth64_76/dataparams'\n",
    "loadmodelpath = 'model/2018-10-12_21-43-28_model_epoch1_step2000.pth'\n",
    "\n",
    "# Pytorch parameters\n",
    "#*************************************\n",
    "device = torch.device('cuda:0' if torch.cuda.is_available() else 'cpu')\n",
    "\n",
    "# Training parameters\n",
    "#*************************************\n",
    "sr = 16000\n",
    "seqLen = 256\n",
    "stride = 10\n",
    "#batch_size = 256\n",
    "#num_epochs = 1\n",
    "#lr = 0.005\n",
    "#log_interval = 50\n",
    "#max_steps = 2000\n",
    "\n",
    "#Generation parameters\n",
    "#*************************************\n",
    "max_length = seqLen*48"
   ]
  },
  {
   "cell_type": "code",
   "execution_count": 4,
   "metadata": {},
   "outputs": [
    {
     "name": "stdout",
     "output_type": "stream",
     "text": [
      "dict_keys(['meta', 'instID', 'amplitude', 'midiPitch'])\n"
     ]
    }
   ],
   "source": [
    "# Let's check out the available conditional parameters first\n",
    "#*************************************\n",
    "pm = paramManager.paramManager(datadir, paramdir)\n",
    "datafiles = pm.filenames(datadir)\n",
    "params = pm.getParams(datafiles[0]) \n",
    "print(params.keys())\n",
    "\n",
    "#note midiPitch has to be scaled since the large raw values interfere with the learning"
   ]
  },
  {
   "cell_type": "code",
   "execution_count": 5,
   "metadata": {},
   "outputs": [],
   "source": [
    "# Initialize dataset & dataloader\n",
    "#*************************************\n",
    "audiocoding = mulawnEncode(256,0,1) #initialize the mu-law encodings\n",
    "targetcoding = mulaw(256)\n",
    "rescalePitch = normalizeDim('midiPitch',64,76)\n",
    "rescaleAmp = normalizeDim('amplitude',0,0.9)\n",
    "\n",
    "testdataset = dataloader.AudioDataset(sr,seqLen,stride,\n",
    "                                  datadir=datadir,extension='wav',\n",
    "                                  paramdir=paramdir,prop=['instID','amplitude','midiPitch'],\n",
    "                                  transform=transform.Compose([array2tensor(torch.FloatTensor)]), \n",
    "                                  param_transform=transform.Compose([rescaleAmp,rescalePitch,dic2tensor(torch.FloatTensor)]),\n",
    "                                  target_transform=transform.Compose([array2tensor(torch.LongTensor)]))\n",
    "\n",
    "test_loader = torch.utils.data.DataLoader(dataset=testdataset,\n",
    "                                          batch_size=1, \n",
    "                                          shuffle=True,\n",
    "                                          num_workers=4,\n",
    "                                          drop_last=True)"
   ]
  },
  {
   "cell_type": "code",
   "execution_count": 6,
   "metadata": {},
   "outputs": [],
   "source": [
    "# Specify the model\n",
    "#*************************************\n",
    "class RNN(nn.Module):\n",
    "    # input size - the number of \"classes\"\n",
    "    def __init__(self, input_size, cond_size, hidden_size, output_size, n_layers=1):\n",
    "        super(RNN, self).__init__()\n",
    "        self.input_size = input_size\n",
    "        self.cond_size = cond_size\n",
    "        self.hidden_size = hidden_size\n",
    "        self.output_size = output_size\n",
    "        self.n_layers = n_layers #no. of stacked GRU layers\n",
    "\n",
    "        self.i2h = nn.Linear(input_size+cond_size, hidden_size)\n",
    "        self.gru = nn.GRU(hidden_size, hidden_size, n_layers, batch_first=True)\n",
    "        self.decoder = nn.Linear(hidden_size, output_size)\n",
    "    \n",
    "\n",
    "    # input and cv are each one sequence element \n",
    "    def forward(self, input, hidden, batch_size=1):\n",
    "        #print(\"input size is \" + str((input.size())))\n",
    "        \n",
    "        h1 = self.i2h(input)\n",
    "        #print(\"size of h1 is \" + str(h1.size()))\n",
    "        \n",
    "        h_out, hidden = self.gru(h1.view(batch_size,1,-1), hidden)\n",
    "        #print(\"h_out\"+str(h_out.size()))\n",
    "        \n",
    "        output = self.decoder(h_out.view(batch_size,-1))\n",
    "        #print(\"output2\"+str(output.size()))\n",
    "        \n",
    "        return output, hidden\n",
    "\n",
    "    # initialize hiddens for each minibatch\n",
    "    def init_hidden(self,batch_size=1):\n",
    "        return torch.zeros(self.n_layers, batch_size, self.hidden_size, dtype=torch.float, device=device)"
   ]
  },
  {
   "cell_type": "code",
   "execution_count": 44,
   "metadata": {},
   "outputs": [],
   "source": [
    "# Define the training cycle (100% teacher forcing for now)\n",
    "#*************************************\n",
    "def generate(model,max_length,primer=None,paramvect=None):\n",
    "    \"\"\"primer is not None condition, paramvect is incomplete\"\"\" \n",
    "    model.eval()\n",
    "    with torch.no_grad():\n",
    "        if primer is not None:\n",
    "            seq = primer\n",
    "            p_inp = array2tensor(torch.FloatTensor)(audiocoding(primer))\n",
    "        else:\n",
    "            for p_inp,target in test_loader:\n",
    "                seq = np.copy(p_inp[0,:,0])  #extract the original sample\n",
    "                seq_mu = audiocoding(seq)  #mu-law\n",
    "                p_inp[0,:,0] = array2tensor(torch.FloatTensor)(seq_mu) #now we have both the original and mu-lawed samples\n",
    "                break   \n",
    "        generated = seq\n",
    "        p_inp = p_inp.to(device)\n",
    "        #print(\"p_inp\",p_inp)\n",
    "\n",
    "        hidden = model.init_hidden()\n",
    "        for j in range(seqLen-1):  #build up hidden state\n",
    "            _, hidden = model(p_inp[:,j,:],hidden)\n",
    "        inp = p_inp[:,-1,:]  #feed the last value as the initial value of the actual generation\n",
    "        #print(\"inp\",inp)\n",
    "        \n",
    "        for i in range(max_length):\n",
    "            outputs, hidden = model(inp,hidden)\n",
    "            outputs = nn.functional.log_softmax(outputs,dim=1)\n",
    "            topv, topi = outputs.detach().topk(1)  #choose the strongest activation\n",
    "            #print(topv,topv.shape)\n",
    "            #print(topi,topi.shape)\n",
    "            predicted_sample = targetcoding.index2float(topi)\n",
    "            \n",
    "            generated = np.append(generated,predicted_sample)\n",
    "            \n",
    "            inp[:,0] = torch.from_numpy(audiocoding([predicted_sample])).type(torch.cuda.FloatTensor)\n",
    "            #print(\"input\",inp)\n",
    "            #print(\"shape\",inp.shape)\n",
    "            if paramvect is not None:\n",
    "                inp[:,1:] = paramvect\n",
    "                #print(\"input2\",inp)\n",
    "                                       \n",
    "        return generated\n",
    "        "
   ]
  },
  {
   "cell_type": "code",
   "execution_count": 45,
   "metadata": {},
   "outputs": [
    {
     "name": "stdout",
     "output_type": "stream",
     "text": [
      "Loading existing checkpoint...\n"
     ]
    }
   ],
   "source": [
    "# Initialize the network, optimizer and objective func\n",
    "#*************************************\n",
    "rnn = RNN(input_size=1,cond_size=3,hidden_size=40,output_size=256,n_layers=4).to(device)\n",
    "print(\"Loading existing checkpoint...\")\n",
    "rnn.load_state_dict(torch.load(loadmodelpath))"
   ]
  },
  {
   "cell_type": "code",
   "execution_count": 46,
   "metadata": {
    "scrolled": true
   },
   "outputs": [
    {
     "data": {
      "image/png": "[encoded data removed]",
      "text/plain": [
       "<Figure size 1440x72 with 1 Axes>"
      ]
     },
     "metadata": {},
     "output_type": "display_data"
    }
   ],
   "source": [
    "# Generate!\n",
    "#*************************************\n",
    "paramvect = torch.from_numpy(np.array([0,0.5,0.5])).type(torch.cuda.FloatTensor)\n",
    "signal = generate(rnn,max_length,paramvect=paramvect)\n",
    "plot_signal(signal)"
   ]
  },
  {
   "cell_type": "code",
   "execution_count": 65,
   "metadata": {},
   "outputs": [
    {
     "data": {
      "application/vnd.jupyter.widget-view+json": {
       "model_id": "5b7d7a81f2a2430ab6c01e103f60be30",
       "version_major": 2,
       "version_minor": 0
      },
      "text/plain": [
       "interactive(children=(FloatSlider(value=0.0, continuous_update=False, description='instID', max=1.0, step=0.01…"
      ]
     },
     "metadata": {},
     "output_type": "display_data"
    }
   ],
   "source": [
    "from ipywidgets import interact,interactive\n",
    "from ipywidgets import FloatSlider\n",
    "from IPython.display import Audio\n",
    "\n",
    "def widgetfunc(x,y,z):\n",
    "    paramvect = torch.from_numpy(np.array([x,y,z])).type(torch.cuda.FloatTensor)\n",
    "    signal = generate(rnn,max_length,paramvect=paramvect)\n",
    "    plot_signal(signal[seqLen:seqLen*3])\n",
    "    display(Audio(data=signal[seqLen:],rate=sr))\n",
    "    return signal\n",
    "    \n",
    "xslider=FloatSlider(min=0, max=1, step=.01, value=0.0, continuous_update=False, description='instID')\n",
    "yslider=FloatSlider(min=0, max=1, step=.01, value=1.0, continuous_update=False, description='amplitude')\n",
    "zslider=FloatSlider(min=0, max=1, step=.01, value=0.0,  continuous_update=False, description='midiPitch')\n",
    "\n",
    "w = interactive(widgetfunc, x=xslider, y=yslider, z=zslider)\n",
    "display(w)"
   ]
  },
  {
   "cell_type": "code",
   "execution_count": null,
   "metadata": {},
   "outputs": [],
   "source": []
  }
 ],
 "metadata": {
  "kernelspec": {
   "display_name": "Python 3",
   "language": "python",
   "name": "python3"
  },
  "language_info": {
   "codemirror_mode": {
    "name": "ipython",
    "version": 3
   },
   "file_extension": ".py",
   "mimetype": "text/x-python",
   "name": "python",
   "nbconvert_exporter": "python",
   "pygments_lexer": "ipython3",
   "version": "3.6.2"
  }
 },
 "nbformat": 4,
 "nbformat_minor": 2
}
